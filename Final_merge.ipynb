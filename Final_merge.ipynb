{
 "cells": [
  {
   "cell_type": "markdown",
   "id": "61209986-0fd5-4bc3-8e16-df1708091867",
   "metadata": {},
   "source": [
    "## Read two datasets again and then check the information of each"
   ]
  },
  {
   "cell_type": "code",
   "execution_count": 2,
   "id": "143d23f1-1ae5-4851-aeb0-6610d9f96e6c",
   "metadata": {},
   "outputs": [
    {
     "data": {
      "text/html": [
       "<div>\n",
       "<style scoped>\n",
       "    .dataframe tbody tr th:only-of-type {\n",
       "        vertical-align: middle;\n",
       "    }\n",
       "\n",
       "    .dataframe tbody tr th {\n",
       "        vertical-align: top;\n",
       "    }\n",
       "\n",
       "    .dataframe thead th {\n",
       "        text-align: right;\n",
       "    }\n",
       "</style>\n",
       "<table border=\"1\" class=\"dataframe\">\n",
       "  <thead>\n",
       "    <tr style=\"text-align: right;\">\n",
       "      <th></th>\n",
       "      <th>date</th>\n",
       "      <th>hour</th>\n",
       "      <th>trip_count</th>\n",
       "      <th>avg_distance</th>\n",
       "      <th>avg_fare</th>\n",
       "      <th>avg_passengers</th>\n",
       "    </tr>\n",
       "  </thead>\n",
       "  <tbody>\n",
       "    <tr>\n",
       "      <th>0</th>\n",
       "      <td>2024-01-01</td>\n",
       "      <td>0</td>\n",
       "      <td>5375</td>\n",
       "      <td>2.938327</td>\n",
       "      <td>18.763304</td>\n",
       "      <td>1.609488</td>\n",
       "    </tr>\n",
       "    <tr>\n",
       "      <th>1</th>\n",
       "      <td>2024-01-01</td>\n",
       "      <td>1</td>\n",
       "      <td>5537</td>\n",
       "      <td>2.864271</td>\n",
       "      <td>18.184262</td>\n",
       "      <td>1.597977</td>\n",
       "    </tr>\n",
       "    <tr>\n",
       "      <th>2</th>\n",
       "      <td>2024-01-01</td>\n",
       "      <td>2</td>\n",
       "      <td>5208</td>\n",
       "      <td>3.055340</td>\n",
       "      <td>18.115102</td>\n",
       "      <td>1.548771</td>\n",
       "    </tr>\n",
       "    <tr>\n",
       "      <th>3</th>\n",
       "      <td>2024-01-01</td>\n",
       "      <td>3</td>\n",
       "      <td>3741</td>\n",
       "      <td>3.169671</td>\n",
       "      <td>17.669452</td>\n",
       "      <td>1.529003</td>\n",
       "    </tr>\n",
       "    <tr>\n",
       "      <th>4</th>\n",
       "      <td>2024-01-01</td>\n",
       "      <td>4</td>\n",
       "      <td>1998</td>\n",
       "      <td>3.522538</td>\n",
       "      <td>18.636767</td>\n",
       "      <td>1.483984</td>\n",
       "    </tr>\n",
       "  </tbody>\n",
       "</table>\n",
       "</div>"
      ],
      "text/plain": [
       "         date  hour  trip_count  avg_distance   avg_fare  avg_passengers\n",
       "0  2024-01-01     0        5375      2.938327  18.763304        1.609488\n",
       "1  2024-01-01     1        5537      2.864271  18.184262        1.597977\n",
       "2  2024-01-01     2        5208      3.055340  18.115102        1.548771\n",
       "3  2024-01-01     3        3741      3.169671  17.669452        1.529003\n",
       "4  2024-01-01     4        1998      3.522538  18.636767        1.483984"
      ]
     },
     "execution_count": 2,
     "metadata": {},
     "output_type": "execute_result"
    }
   ],
   "source": [
    "import pandas as pd\n",
    "\n",
    "# Load cleaned trip data\n",
    "trip_agg = pd.read_csv(\"./data/cleaned_taxi_trip_hourly.csv\")\n",
    "trip_agg.head()\n"
   ]
  },
  {
   "cell_type": "code",
   "execution_count": 3,
   "id": "ae7e9983",
   "metadata": {},
   "outputs": [
    {
     "name": "stdout",
     "output_type": "stream",
     "text": [
      "<class 'pandas.core.frame.DataFrame'>\n",
      "RangeIndex: 4368 entries, 0 to 4367\n",
      "Data columns (total 6 columns):\n",
      " #   Column          Non-Null Count  Dtype  \n",
      "---  ------          --------------  -----  \n",
      " 0   date            4368 non-null   object \n",
      " 1   hour            4368 non-null   int64  \n",
      " 2   trip_count      4368 non-null   int64  \n",
      " 3   avg_distance    4368 non-null   float64\n",
      " 4   avg_fare        4368 non-null   float64\n",
      " 5   avg_passengers  4368 non-null   float64\n",
      "dtypes: float64(3), int64(2), object(1)\n",
      "memory usage: 204.9+ KB\n"
     ]
    }
   ],
   "source": [
    "trip_agg.info()"
   ]
  },
  {
   "cell_type": "code",
   "execution_count": 4,
   "id": "1ca56aea-b282-4b1f-9b8b-7a3f97f005e6",
   "metadata": {},
   "outputs": [
    {
     "data": {
      "text/html": [
       "<div>\n",
       "<style scoped>\n",
       "    .dataframe tbody tr th:only-of-type {\n",
       "        vertical-align: middle;\n",
       "    }\n",
       "\n",
       "    .dataframe tbody tr th {\n",
       "        vertical-align: top;\n",
       "    }\n",
       "\n",
       "    .dataframe thead th {\n",
       "        text-align: right;\n",
       "    }\n",
       "</style>\n",
       "<table border=\"1\" class=\"dataframe\">\n",
       "  <thead>\n",
       "    <tr style=\"text-align: right;\">\n",
       "      <th></th>\n",
       "      <th>date</th>\n",
       "      <th>hour</th>\n",
       "      <th>weather_label</th>\n",
       "      <th>temperature_c</th>\n",
       "      <th>wind_speed_mps</th>\n",
       "      <th>visibility_km</th>\n",
       "    </tr>\n",
       "  </thead>\n",
       "  <tbody>\n",
       "    <tr>\n",
       "      <th>0</th>\n",
       "      <td>2024-01-01</td>\n",
       "      <td>0</td>\n",
       "      <td>['Fog', 'Mist']</td>\n",
       "      <td>1.5</td>\n",
       "      <td>1.50</td>\n",
       "      <td>1.1750</td>\n",
       "    </tr>\n",
       "    <tr>\n",
       "      <th>1</th>\n",
       "      <td>2024-01-01</td>\n",
       "      <td>1</td>\n",
       "      <td>['Mostly Clear', 'Mist']</td>\n",
       "      <td>1.5</td>\n",
       "      <td>1.25</td>\n",
       "      <td>5.0500</td>\n",
       "    </tr>\n",
       "    <tr>\n",
       "      <th>2</th>\n",
       "      <td>2024-01-01</td>\n",
       "      <td>2</td>\n",
       "      <td>['Mist']</td>\n",
       "      <td>1.5</td>\n",
       "      <td>1.00</td>\n",
       "      <td>3.0500</td>\n",
       "    </tr>\n",
       "    <tr>\n",
       "      <th>3</th>\n",
       "      <td>2024-01-01</td>\n",
       "      <td>3</td>\n",
       "      <td>['Partly Cloudy', 'Cloudy']</td>\n",
       "      <td>2.0</td>\n",
       "      <td>1.55</td>\n",
       "      <td>8.9995</td>\n",
       "    </tr>\n",
       "    <tr>\n",
       "      <th>4</th>\n",
       "      <td>2024-01-01</td>\n",
       "      <td>4</td>\n",
       "      <td>['Snow', 'Rain']</td>\n",
       "      <td>2.0</td>\n",
       "      <td>1.55</td>\n",
       "      <td>7.5000</td>\n",
       "    </tr>\n",
       "  </tbody>\n",
       "</table>\n",
       "</div>"
      ],
      "text/plain": [
       "         date  hour                weather_label  temperature_c  \\\n",
       "0  2024-01-01     0              ['Fog', 'Mist']            1.5   \n",
       "1  2024-01-01     1     ['Mostly Clear', 'Mist']            1.5   \n",
       "2  2024-01-01     2                     ['Mist']            1.5   \n",
       "3  2024-01-01     3  ['Partly Cloudy', 'Cloudy']            2.0   \n",
       "4  2024-01-01     4             ['Snow', 'Rain']            2.0   \n",
       "\n",
       "   wind_speed_mps  visibility_km  \n",
       "0            1.50         1.1750  \n",
       "1            1.25         5.0500  \n",
       "2            1.00         3.0500  \n",
       "3            1.55         8.9995  \n",
       "4            1.55         7.5000  "
      ]
     },
     "execution_count": 4,
     "metadata": {},
     "output_type": "execute_result"
    }
   ],
   "source": [
    "#Load weather data\n",
    "weather_clean = pd.read_csv(\"./data/cleaned_weather_hourly.csv\")\n",
    "weather_clean.head()"
   ]
  },
  {
   "cell_type": "code",
   "execution_count": 5,
   "id": "0d81ebec",
   "metadata": {},
   "outputs": [
    {
     "name": "stdout",
     "output_type": "stream",
     "text": [
      "<class 'pandas.core.frame.DataFrame'>\n",
      "RangeIndex: 4925 entries, 0 to 4924\n",
      "Data columns (total 6 columns):\n",
      " #   Column          Non-Null Count  Dtype  \n",
      "---  ------          --------------  -----  \n",
      " 0   date            4925 non-null   object \n",
      " 1   hour            4925 non-null   int64  \n",
      " 2   weather_label   4925 non-null   object \n",
      " 3   temperature_c   4925 non-null   float64\n",
      " 4   wind_speed_mps  4925 non-null   float64\n",
      " 5   visibility_km   4925 non-null   float64\n",
      "dtypes: float64(3), int64(1), object(2)\n",
      "memory usage: 231.0+ KB\n"
     ]
    }
   ],
   "source": [
    "weather_clean.info()"
   ]
  },
  {
   "cell_type": "markdown",
   "id": "fe527eb0",
   "metadata": {},
   "source": [
    "### Because we focus on the trip data so we will merge the weather into trip data:"
   ]
  },
  {
   "cell_type": "code",
   "execution_count": 6,
   "id": "c3f9c3b8",
   "metadata": {},
   "outputs": [
    {
     "data": {
      "text/html": [
       "<div>\n",
       "<style scoped>\n",
       "    .dataframe tbody tr th:only-of-type {\n",
       "        vertical-align: middle;\n",
       "    }\n",
       "\n",
       "    .dataframe tbody tr th {\n",
       "        vertical-align: top;\n",
       "    }\n",
       "\n",
       "    .dataframe thead th {\n",
       "        text-align: right;\n",
       "    }\n",
       "</style>\n",
       "<table border=\"1\" class=\"dataframe\">\n",
       "  <thead>\n",
       "    <tr style=\"text-align: right;\">\n",
       "      <th></th>\n",
       "      <th>date</th>\n",
       "      <th>hour</th>\n",
       "      <th>trip_count</th>\n",
       "      <th>avg_distance</th>\n",
       "      <th>avg_fare</th>\n",
       "      <th>avg_passengers</th>\n",
       "      <th>weather_label</th>\n",
       "      <th>temperature_c</th>\n",
       "      <th>wind_speed_mps</th>\n",
       "      <th>visibility_km</th>\n",
       "    </tr>\n",
       "  </thead>\n",
       "  <tbody>\n",
       "    <tr>\n",
       "      <th>0</th>\n",
       "      <td>2024-01-01</td>\n",
       "      <td>0</td>\n",
       "      <td>5375</td>\n",
       "      <td>2.938327</td>\n",
       "      <td>18.763304</td>\n",
       "      <td>1.609488</td>\n",
       "      <td>['Fog', 'Mist']</td>\n",
       "      <td>1.5</td>\n",
       "      <td>1.50</td>\n",
       "      <td>1.1750</td>\n",
       "    </tr>\n",
       "    <tr>\n",
       "      <th>1</th>\n",
       "      <td>2024-01-01</td>\n",
       "      <td>1</td>\n",
       "      <td>5537</td>\n",
       "      <td>2.864271</td>\n",
       "      <td>18.184262</td>\n",
       "      <td>1.597977</td>\n",
       "      <td>['Mostly Clear', 'Mist']</td>\n",
       "      <td>1.5</td>\n",
       "      <td>1.25</td>\n",
       "      <td>5.0500</td>\n",
       "    </tr>\n",
       "    <tr>\n",
       "      <th>2</th>\n",
       "      <td>2024-01-01</td>\n",
       "      <td>2</td>\n",
       "      <td>5208</td>\n",
       "      <td>3.055340</td>\n",
       "      <td>18.115102</td>\n",
       "      <td>1.548771</td>\n",
       "      <td>['Mist']</td>\n",
       "      <td>1.5</td>\n",
       "      <td>1.00</td>\n",
       "      <td>3.0500</td>\n",
       "    </tr>\n",
       "    <tr>\n",
       "      <th>3</th>\n",
       "      <td>2024-01-01</td>\n",
       "      <td>3</td>\n",
       "      <td>3741</td>\n",
       "      <td>3.169671</td>\n",
       "      <td>17.669452</td>\n",
       "      <td>1.529003</td>\n",
       "      <td>['Partly Cloudy', 'Cloudy']</td>\n",
       "      <td>2.0</td>\n",
       "      <td>1.55</td>\n",
       "      <td>8.9995</td>\n",
       "    </tr>\n",
       "    <tr>\n",
       "      <th>4</th>\n",
       "      <td>2024-01-01</td>\n",
       "      <td>4</td>\n",
       "      <td>1998</td>\n",
       "      <td>3.522538</td>\n",
       "      <td>18.636767</td>\n",
       "      <td>1.483984</td>\n",
       "      <td>['Snow', 'Rain']</td>\n",
       "      <td>2.0</td>\n",
       "      <td>1.55</td>\n",
       "      <td>7.5000</td>\n",
       "    </tr>\n",
       "  </tbody>\n",
       "</table>\n",
       "</div>"
      ],
      "text/plain": [
       "         date  hour  trip_count  avg_distance   avg_fare  avg_passengers  \\\n",
       "0  2024-01-01     0        5375      2.938327  18.763304        1.609488   \n",
       "1  2024-01-01     1        5537      2.864271  18.184262        1.597977   \n",
       "2  2024-01-01     2        5208      3.055340  18.115102        1.548771   \n",
       "3  2024-01-01     3        3741      3.169671  17.669452        1.529003   \n",
       "4  2024-01-01     4        1998      3.522538  18.636767        1.483984   \n",
       "\n",
       "                 weather_label  temperature_c  wind_speed_mps  visibility_km  \n",
       "0              ['Fog', 'Mist']            1.5            1.50         1.1750  \n",
       "1     ['Mostly Clear', 'Mist']            1.5            1.25         5.0500  \n",
       "2                     ['Mist']            1.5            1.00         3.0500  \n",
       "3  ['Partly Cloudy', 'Cloudy']            2.0            1.55         8.9995  \n",
       "4             ['Snow', 'Rain']            2.0            1.55         7.5000  "
      ]
     },
     "execution_count": 6,
     "metadata": {},
     "output_type": "execute_result"
    }
   ],
   "source": [
    "# Convert datetime columns for both datasets\n",
    "merge_df = pd.merge(\n",
    "    trip_agg,\n",
    "    weather_clean,\n",
    "    how='left',\n",
    "    on=['date', 'hour']\n",
    ")\n",
    "merge_df.head()"
   ]
  },
  {
   "cell_type": "markdown",
   "id": "da930f4b",
   "metadata": {},
   "source": [
    "### Clean the merged dataset:"
   ]
  },
  {
   "cell_type": "code",
   "execution_count": 10,
   "id": "cb3f0d82",
   "metadata": {},
   "outputs": [
    {
     "data": {
      "text/plain": [
       "date                0\n",
       "hour                0\n",
       "trip_count          0\n",
       "avg_distance        0\n",
       "avg_fare            0\n",
       "avg_passengers      0\n",
       "weather_label     174\n",
       "temperature_c     174\n",
       "wind_speed_mps    174\n",
       "visibility_km     174\n",
       "dtype: int64"
      ]
     },
     "execution_count": 10,
     "metadata": {},
     "output_type": "execute_result"
    }
   ],
   "source": [
    "merge_df.isnull().sum()"
   ]
  },
  {
   "cell_type": "code",
   "execution_count": 11,
   "id": "94d596ba",
   "metadata": {},
   "outputs": [
    {
     "data": {
      "text/plain": [
       "np.int64(0)"
      ]
     },
     "execution_count": 11,
     "metadata": {},
     "output_type": "execute_result"
    }
   ],
   "source": [
    "merge_df.duplicated().sum()"
   ]
  },
  {
   "cell_type": "code",
   "execution_count": 12,
   "id": "53d8bae2",
   "metadata": {},
   "outputs": [],
   "source": [
    "cleaned_merge_df = merge_df.fillna(0)"
   ]
  },
  {
   "cell_type": "markdown",
   "id": "03ec4a84",
   "metadata": {},
   "source": [
    "### Read the dataset into csv file:"
   ]
  },
  {
   "cell_type": "code",
   "execution_count": 14,
   "id": "44a6d4fe",
   "metadata": {},
   "outputs": [],
   "source": [
    "cleaned_merge_df.to_csv(\"./data/cleaned_merge_df.csv\", index=False)"
   ]
  }
 ],
 "metadata": {
  "kernelspec": {
   "display_name": "dataenv",
   "language": "python",
   "name": "python3"
  },
  "language_info": {
   "codemirror_mode": {
    "name": "ipython",
    "version": 3
   },
   "file_extension": ".py",
   "mimetype": "text/x-python",
   "name": "python",
   "nbconvert_exporter": "python",
   "pygments_lexer": "ipython3",
   "version": "3.12.4"
  }
 },
 "nbformat": 4,
 "nbformat_minor": 5
}
