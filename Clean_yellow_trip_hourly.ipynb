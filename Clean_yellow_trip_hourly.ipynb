{
 "cells": [
  {
   "cell_type": "markdown",
   "id": "6e22339f-ae8b-483e-85a5-1d9d75701f07",
   "metadata": {},
   "source": [
    "## Cleaning the Yellow Trip data"
   ]
  },
  {
   "cell_type": "code",
   "execution_count": 1,
   "id": "34b89c1f-6733-42f3-b534-7195b1b207af",
   "metadata": {},
   "outputs": [
    {
     "name": "stderr",
     "output_type": "stream",
     "text": [
      "/var/folders/qq/q7zb_56n3nd0hngl2qjjdt2c0000gn/T/ipykernel_92403/442171894.py:4: DtypeWarning: Columns (6) have mixed types. Specify dtype option on import or set low_memory=False.\n",
      "  df_trip = pd.read_csv(\"./data/yellow_tripdata_2024.csv\", parse_dates=['tpep_pickup_datetime'])\n"
     ]
    },
    {
     "name": "stdout",
     "output_type": "stream",
     "text": [
      "Index(['VendorID', 'tpep_pickup_datetime', 'tpep_dropoff_datetime',\n",
      "       'passenger_count', 'trip_distance', 'RatecodeID', 'store_and_fwd_flag',\n",
      "       'PULocationID', 'DOLocationID', 'payment_type', 'fare_amount', 'extra',\n",
      "       'mta_tax', 'tip_amount', 'tolls_amount', 'improvement_surcharge',\n",
      "       'total_amount', 'congestion_surcharge', 'Airport_fee'],\n",
      "      dtype='object')\n"
     ]
    }
   ],
   "source": [
    "import pandas as pd\n",
    "\n",
    "#We will use trip date time with weather date time to merge and clean the dataset\n",
    "df_trip = pd.read_csv(\"./data/yellow_tripdata_2024.csv\", parse_dates=['tpep_pickup_datetime'])\n",
    "\n",
    "print(df_trip.columns)"
   ]
  },
  {
   "cell_type": "code",
   "execution_count": 2,
   "id": "bca39980-37b8-433a-94a2-def17757bb62",
   "metadata": {},
   "outputs": [
    {
     "data": {
      "text/html": [
       "<div>\n",
       "<style scoped>\n",
       "    .dataframe tbody tr th:only-of-type {\n",
       "        vertical-align: middle;\n",
       "    }\n",
       "\n",
       "    .dataframe tbody tr th {\n",
       "        vertical-align: top;\n",
       "    }\n",
       "\n",
       "    .dataframe thead th {\n",
       "        text-align: right;\n",
       "    }\n",
       "</style>\n",
       "<table border=\"1\" class=\"dataframe\">\n",
       "  <thead>\n",
       "    <tr style=\"text-align: right;\">\n",
       "      <th></th>\n",
       "      <th>date</th>\n",
       "      <th>hour</th>\n",
       "      <th>trip_count</th>\n",
       "      <th>avg_distance</th>\n",
       "      <th>avg_fare</th>\n",
       "      <th>avg_passengers</th>\n",
       "    </tr>\n",
       "  </thead>\n",
       "  <tbody>\n",
       "    <tr>\n",
       "      <th>0</th>\n",
       "      <td>2002-12-31</td>\n",
       "      <td>16</td>\n",
       "      <td>1</td>\n",
       "      <td>7.7700</td>\n",
       "      <td>37.30</td>\n",
       "      <td>1.0</td>\n",
       "    </tr>\n",
       "    <tr>\n",
       "      <th>1</th>\n",
       "      <td>2002-12-31</td>\n",
       "      <td>22</td>\n",
       "      <td>4</td>\n",
       "      <td>2.5325</td>\n",
       "      <td>14.20</td>\n",
       "      <td>1.0</td>\n",
       "    </tr>\n",
       "    <tr>\n",
       "      <th>2</th>\n",
       "      <td>2002-12-31</td>\n",
       "      <td>23</td>\n",
       "      <td>4</td>\n",
       "      <td>7.6875</td>\n",
       "      <td>33.45</td>\n",
       "      <td>1.0</td>\n",
       "    </tr>\n",
       "    <tr>\n",
       "      <th>3</th>\n",
       "      <td>2008-12-31</td>\n",
       "      <td>0</td>\n",
       "      <td>1</td>\n",
       "      <td>5.1900</td>\n",
       "      <td>49.90</td>\n",
       "      <td>1.0</td>\n",
       "    </tr>\n",
       "    <tr>\n",
       "      <th>4</th>\n",
       "      <td>2008-12-31</td>\n",
       "      <td>22</td>\n",
       "      <td>1</td>\n",
       "      <td>1.6200</td>\n",
       "      <td>11.40</td>\n",
       "      <td>1.0</td>\n",
       "    </tr>\n",
       "  </tbody>\n",
       "</table>\n",
       "</div>"
      ],
      "text/plain": [
       "         date  hour  trip_count  avg_distance  avg_fare  avg_passengers\n",
       "0  2002-12-31    16           1        7.7700     37.30             1.0\n",
       "1  2002-12-31    22           4        2.5325     14.20             1.0\n",
       "2  2002-12-31    23           4        7.6875     33.45             1.0\n",
       "3  2008-12-31     0           1        5.1900     49.90             1.0\n",
       "4  2008-12-31    22           1        1.6200     11.40             1.0"
      ]
     },
     "execution_count": 2,
     "metadata": {},
     "output_type": "execute_result"
    }
   ],
   "source": [
    "# Drop rows with missing critical fields\n",
    "df_trip_cleaned = df_trip.dropna(subset=[\n",
    "    'tpep_pickup_datetime', 'tpep_dropoff_datetime',\n",
    "    'fare_amount', 'trip_distance', 'passenger_count'\n",
    "])\n",
    "\n",
    "# Filter out invalid entries\n",
    "df_trip_cleaned = df_trip_cleaned[\n",
    "    (df_trip_cleaned['trip_distance'] > 0) &\n",
    "    (df_trip_cleaned['fare_amount'] > 0) &\n",
    "    (df_trip_cleaned['passenger_count'] > 0)\n",
    "]\n",
    "\n",
    "\n",
    "#get the date and time from the df\n",
    "df_trip_cleaned['date'] = df_trip_cleaned['tpep_pickup_datetime'].dt.date\n",
    "df_trip_cleaned['hour'] = df_trip_cleaned['tpep_pickup_datetime'].dt.hour\n",
    "\n",
    "#Now we need to aggregate the data by date and hour so that we can match the date and hour with the weather data \n",
    "trip_agg = df_trip_cleaned.groupby(['date', 'hour']).agg(\n",
    "    trip_count=('trip_distance', 'count'),\n",
    "    avg_distance=('trip_distance', 'mean'),\n",
    "    avg_fare=('fare_amount', 'mean'),\n",
    "    avg_passengers=('passenger_count', 'mean')\n",
    ").reset_index()\n",
    "\n",
    "# Read it into the DataFrame\n",
    "trip_agg.to_csv(\"./data/cleaned_yellow_trip_hourly.csv\", index=False)\n",
    "\n",
    "# Display the first 5 rows of the DataFrame\n",
    "trip_agg.head(5)"
   ]
  },
  {
   "cell_type": "code",
   "execution_count": 3,
   "id": "dca1aaab",
   "metadata": {},
   "outputs": [
    {
     "data": {
      "text/plain": [
       "(Timestamp('2024-01-01 00:00:00'), Timestamp('2024-07-01 00:00:00'))"
      ]
     },
     "execution_count": 3,
     "metadata": {},
     "output_type": "execute_result"
    }
   ],
   "source": [
    "# Filter data between 2024-01-01 and 2024-12-31\n",
    "\n",
    "# Convert the column to datetime if it's not already\n",
    "trip_agg['date'] = pd.to_datetime(trip_agg['date'], errors='coerce')\n",
    "\n",
    "# Filter rows between Jan 1 and Dec 31, 2024\n",
    "mask = (trip_agg['date'] >= '2024-01-01') & (trip_agg['date'] <= '2024-12-31')\n",
    "df_filtered = trip_agg.loc[mask]\n",
    "(df_filtered['date'].min(), df_filtered['date'].max())"
   ]
  },
  {
   "cell_type": "code",
   "execution_count": 4,
   "id": "95aacc28",
   "metadata": {},
   "outputs": [],
   "source": [
    "df_filtered.to_csv('./data/cleaned_taxi_trip_hourly.csv', index=False)"
   ]
  }
 ],
 "metadata": {
  "kernelspec": {
   "display_name": "dataenv",
   "language": "python",
   "name": "python3"
  },
  "language_info": {
   "codemirror_mode": {
    "name": "ipython",
    "version": 3
   },
   "file_extension": ".py",
   "mimetype": "text/x-python",
   "name": "python",
   "nbconvert_exporter": "python",
   "pygments_lexer": "ipython3",
   "version": "3.12.4"
  }
 },
 "nbformat": 4,
 "nbformat_minor": 5
}
